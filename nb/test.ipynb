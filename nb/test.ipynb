{
 "cells": [
  {
   "cell_type": "code",
   "execution_count": null,
   "metadata": {},
   "outputs": [],
   "source": [
    "from django_fragments import prep_nb\n",
    "prep_nb()"
   ]
  },
  {
   "cell_type": "code",
   "execution_count": null,
   "metadata": {},
   "outputs": [],
   "source": [
    "from django.template import Context, Template\n",
    "from django_fragments.forms import ContactForm\n",
    "html = \"\"\"{% load fragments %}{% spaceless %}{% hput form.email validate=\"/this-is-an-endpoint\" %}{% endspaceless %}\"\"\"\n",
    "Template(html).render(context=Context({\"form\": ContactForm()}))"
   ]
  },
  {
   "cell_type": "code",
   "execution_count": null,
   "metadata": {},
   "outputs": [],
   "source": [
    "\n",
    "from django.template import Context, Template\n",
    "\n",
    "html = \"\"\"\n",
    "{% load fragments %}\n",
    "{% with variable='This is a variable' %}\n",
    "  {% icon name='x_mark_mini' aria_hidden=\"true\" parent_title=variable %}\n",
    "{% endwith %}\n",
    "\"\"\"\n",
    "\n",
    "Template(html).render(context=Context({\"variable\": \"Hello World!\"}))"
   ]
  }
 ],
 "metadata": {
  "kernelspec": {
   "display_name": ".venv",
   "language": "python",
   "name": "python3"
  },
  "language_info": {
   "codemirror_mode": {
    "name": "ipython",
    "version": 3
   },
   "file_extension": ".py",
   "mimetype": "text/x-python",
   "name": "python",
   "nbconvert_exporter": "python",
   "pygments_lexer": "ipython3",
   "version": "3.11.3"
  },
  "orig_nbformat": 4
 },
 "nbformat": 4,
 "nbformat_minor": 2
}
