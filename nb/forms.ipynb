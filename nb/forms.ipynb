{
 "cells": [
  {
   "cell_type": "code",
   "execution_count": 1,
   "metadata": {},
   "outputs": [
    {
     "name": "stderr",
     "output_type": "stream",
     "text": [
      "Executing <Task pending name='Task-3' coro=<Kernel.dispatch_queue() running at /Users/mv/Code/django-fragments/.venv/lib/python3.11/site-packages/ipykernel/kernelbase.py:513> wait_for=<Future pending cb=[Task.task_wakeup()] created at /Users/mv/Code/django-fragments/.venv/lib/python3.11/site-packages/tornado/queues.py:248> cb=[IOLoop.add_future.<locals>.<lambda>() at /Users/mv/Code/django-fragments/.venv/lib/python3.11/site-packages/tornado/ioloop.py:685] created at /Users/mv/.pyenv/versions/3.11.3/lib/python3.11/asyncio/tasks.py:670> took 0.189 seconds\n"
     ]
    }
   ],
   "source": [
    "%load_ext rich\n",
    "from django_fragments import prep_nb\n",
    "prep_nb()\n",
    "from django_fragments.forms import ContactForm"
   ]
  },
  {
   "cell_type": "code",
   "execution_count": 2,
   "metadata": {},
   "outputs": [
    {
     "name": "stdout",
     "output_type": "stream",
     "text": [
      "<div class=\"fieldWrapper\" data-widget=\"select\"><label for=\"id_category\">Yes/No</label><select name=\"category\" id=\"id_category\"><option value=\"yes\">Yes, I approve</option><option value=\"no\" selected>No, I do not</option></select><small>This is a category!</small></div><div class=\"fieldWrapper\" data-widget=\"email\"><label for=\"id_email\">Email</label><input type=\"email\" name=\"email\" required id=\"id_email\"><small>Testable form</small></div><div class=\"fieldWrapper\" data-widget=\"textarea\"><label for=\"id_message\">Message</label><textarea name=\"message\" cols=\"40\" rows=\"3\" required id=\"id_message\"></textarea><small></small></div>\n"
     ]
    }
   ],
   "source": [
    "empty = ContactForm()\n",
    "print(empty)"
   ]
  },
  {
   "cell_type": "code",
   "execution_count": 5,
   "metadata": {},
   "outputs": [
    {
     "data": {
      "text/plain": [
       "[('yes', 'Yes, I approve'), ('no', 'No, I do not')]"
      ]
     },
     "execution_count": 5,
     "metadata": {},
     "output_type": "execute_result"
    }
   ],
   "source": [
    "empty.fields.get('category').choices"
   ]
  },
  {
   "cell_type": "code",
   "execution_count": null,
   "metadata": {},
   "outputs": [],
   "source": [
    "valid = ContactForm({\"message\": \"Hi there\", \"email\": \"foo@example.com\"})\n",
    "print(valid)"
   ]
  },
  {
   "cell_type": "code",
   "execution_count": null,
   "metadata": {},
   "outputs": [],
   "source": [
    "invalid = ContactForm({\"message\": \"Hi there\", \"email\": \"foo\"})\n",
    "print(invalid)"
   ]
  },
  {
   "cell_type": "code",
   "execution_count": null,
   "metadata": {},
   "outputs": [],
   "source": [
    "for boundfield in invalid:\n",
    "  print(boundfield)"
   ]
  }
 ],
 "metadata": {
  "kernelspec": {
   "display_name": ".venv",
   "language": "python",
   "name": "python3"
  },
  "language_info": {
   "codemirror_mode": {
    "name": "ipython",
    "version": 3
   },
   "file_extension": ".py",
   "mimetype": "text/x-python",
   "name": "python",
   "nbconvert_exporter": "python",
   "pygments_lexer": "ipython3",
   "version": "3.11.3"
  },
  "orig_nbformat": 4
 },
 "nbformat": 4,
 "nbformat_minor": 2
}
